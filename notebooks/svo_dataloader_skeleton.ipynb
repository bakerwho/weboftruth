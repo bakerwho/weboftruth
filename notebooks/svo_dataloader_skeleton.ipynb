{
 "cells": [
  {
   "cell_type": "code",
   "execution_count": 1,
   "metadata": {},
   "outputs": [],
   "source": [
    "import pandas as pd\n",
    "import pickle\n",
    "\n",
    "import torchkge\n",
    "\n",
    "svo_data_path = './datasources/SVO-tensor-dataset/'\n",
    "interim_dumps = './saved_obj/interim/'\n",
    "saved_path = './saved_obj/'"
   ]
  },
  {
   "cell_type": "code",
   "execution_count": 2,
   "metadata": {
    "tags": [
     "outputPrepend",
     "outputPrepend",
     "outputPrepend",
     "outputPrepend",
     "outputPrepend",
     "outputPrepend",
     "outputPrepend",
     "outputPrepend",
     "outputPrepend",
     "outputPrepend",
     "outputPrepend",
     "outputPrepend",
     "outputPrepend",
     "outputPrepend",
     "outputPrepend",
     "outputPrepend",
     "outputPrepend",
     "outputPrepend",
     "outputPrepend",
     "outputPrepend",
     "outputPrepend",
     "outputPrepend",
     "outputPrepend",
     "outputPrepend",
     "outputPrepend",
     "outputPrepend"
    ]
   },
   "outputs": [],
   "source": [
    "# Loading Test, Valid, Train sets\n",
    "df1 = pd.read_csv(svo_data_path + 'svo_data_train_1000000.dat',\n",
    "                   sep='\\t', header=None, names=['from', 'rel', 'to'])\n",
    "\n",
    "df2 = pd.read_csv(svo_data_path + 'svo_data_valid_50000.dat',\n",
    "                   sep='\\t', header=None, names=['from', 'rel', 'to'])\n",
    "\n",
    "df3 = pd.read_csv(svo_data_path + 'svo_data_test_250000.dat',\n",
    "                   sep='\\t', header=None, names=['from', 'rel', 'to'])"
   ]
  },
  {
   "cell_type": "code",
   "execution_count": 3,
   "metadata": {},
   "outputs": [],
   "source": [
    "# Building the KG\n",
    "svo_kg = torchkge.data_structures.KnowledgeGraph(df = pd.concat([df1, df2, df3]))"
   ]
  },
  {
   "cell_type": "code",
   "execution_count": 5,
   "metadata": {},
   "outputs": [],
   "source": [
    "# Pickling the KG\n",
    "with open(interim_dumps + 'svo_kg_full.pkl', 'wb') as f:\n",
    "    pickle.dump(svo_kg, f)"
   ]
  },
  {
   "cell_type": "markdown",
   "metadata": {},
   "source": [
    "Model Building attempt 1"
   ]
  },
  {
   "cell_type": "code",
   "execution_count": 6,
   "metadata": {},
   "outputs": [],
   "source": [
    "from torch import cuda\n",
    "from torch.optim import Adam\n",
    "\n",
    "from torchkge.models import TransEModel\n",
    "from torchkge.sampling import BernoulliNegativeSampler\n",
    "from torchkge.utils import MarginLoss, DataLoader\n",
    "# from torchkge.utils.datasets import load_fb15k237\n",
    "# from torchkge.utils.datasets import load_wikidatasets\n",
    "\n",
    "from tqdm.autonotebook import tqdm"
   ]
  },
  {
   "cell_type": "code",
   "execution_count": 8,
   "metadata": {},
   "outputs": [],
   "source": [
    "# Load dataset\n",
    "svo_kg_train, svo_kg_valid, svo_kg_test = svo_kg.split_kg(sizes=(len(df1), len(df2), len(df3)))"
   ]
  },
  {
   "cell_type": "code",
   "execution_count": 17,
   "metadata": {},
   "outputs": [],
   "source": [
    "# Define some hyper-parameters for training\n",
    "emb_dim = 250\n",
    "lr = 0.0004\n",
    "n_epochs = 10\n",
    "b_size = 64\n",
    "margin = 0.5"
   ]
  },
  {
   "cell_type": "code",
   "execution_count": 18,
   "metadata": {},
   "outputs": [],
   "source": [
    "# Define the model and criterion\n",
    "model = TransEModel(emb_dim, svo_kg_train.n_ent, svo_kg_train.n_rel, dissimilarity_type='L2')\n",
    "criterion = MarginLoss(margin)"
   ]
  },
  {
   "cell_type": "code",
   "execution_count": 19,
   "metadata": {},
   "outputs": [],
   "source": [
    "# Move everything to CUDA if available\n",
    "if cuda.is_available():\n",
    "    cuda.empty_cache()\n",
    "    model.cuda()\n",
    "    criterion.cuda()"
   ]
  },
  {
   "cell_type": "code",
   "execution_count": 20,
   "metadata": {},
   "outputs": [
    {
     "output_type": "stream",
     "name": "stderr",
     "text": "Epoch 10 | mean loss: 3.59882: 100%|██████████| 10/10 [1:47:00<00:00, 642.04s/epoch]\n"
    }
   ],
   "source": [
    "# Define the torch optimizer to be used\n",
    "optimizer = Adam(model.parameters(), lr=lr, weight_decay=1e-5)\n",
    "\n",
    "sampler = BernoulliNegativeSampler(svo_kg_train)\n",
    "dataloader = DataLoader(svo_kg_train, batch_size=b_size, use_cuda='all')\n",
    "\n",
    "iterator = tqdm(range(n_epochs), unit='epoch')\n",
    "for epoch in iterator:\n",
    "    running_loss = 0.0\n",
    "    for i, batch in enumerate(dataloader):\n",
    "        h, t, r = batch[0], batch[1], batch[2]\n",
    "        n_h, n_t = sampler.corrupt_batch(h, t, r)\n",
    "\n",
    "        optimizer.zero_grad()\n",
    "\n",
    "        # forward + backward + optimize\n",
    "        pos, neg = model(h, t, n_h, n_t, r)\n",
    "        loss = criterion(pos, neg)\n",
    "        loss.backward()\n",
    "        optimizer.step()\n",
    "\n",
    "        running_loss += loss.item()\n",
    "    iterator.set_description(\n",
    "        'Epoch {} | mean loss: {:.5f}'.format(epoch + 1,\n",
    "                                              running_loss / len(dataloader)))\n",
    "\n",
    "model.normalize_parameters()"
   ]
  },
  {
   "cell_type": "code",
   "execution_count": 21,
   "metadata": {},
   "outputs": [
    {
     "output_type": "stream",
     "name": "stderr",
     "text": "Link prediction evaluation: 100%|██████████| 1563/1563 [08:14<00:00,  3.16batch/s]Hit@10 : 0.068 \t\t Filt. Hit@10 : 0.071\nMean Rank : 2156 \t Filt. Mean Rank : 2148\nMRR : 0.034 \t\t Filt. MRR : 0.035\n\n"
    }
   ],
   "source": [
    "from torchkge.evaluation import LinkPredictionEvaluator\n",
    "\n",
    "# Link prediction evaluation on validation set.\n",
    "evaluator = LinkPredictionEvaluator(model, svo_kg_valid)\n",
    "evaluator.evaluate(b_size=32, k_max=10)\n",
    "evaluator.print_results()"
   ]
  },
  {
   "cell_type": "code",
   "execution_count": 26,
   "metadata": {},
   "outputs": [],
   "source": [
    "import torch\n",
    "\n",
    "torch.save(model.state_dict(), saved_path+'transe_sdict.pt')"
   ]
  }
 ],
 "metadata": {
  "kernelspec": {
   "display_name": "Python 3",
   "language": "python",
   "name": "python3"
  },
  "language_info": {
   "codemirror_mode": {
    "name": "ipython",
    "version": 3
   },
   "file_extension": ".py",
   "mimetype": "text/x-python",
   "name": "python",
   "nbconvert_exporter": "python",
   "pygments_lexer": "ipython3",
   "version": "3.7.7-final"
  }
 },
 "nbformat": 4,
 "nbformat_minor": 4
}