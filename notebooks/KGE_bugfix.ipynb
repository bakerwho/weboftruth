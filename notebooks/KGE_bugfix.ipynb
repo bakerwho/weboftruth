{
 "cells": [
  {
   "cell_type": "code",
   "execution_count": 1,
   "metadata": {},
   "outputs": [],
   "source": [
    "! pip -q install -e .."
   ]
  },
  {
   "cell_type": "code",
   "execution_count": 2,
   "metadata": {},
   "outputs": [
    {
     "name": "stdout",
     "output_type": "stream",
     "text": [
      "Warning: models folder may not exist\n"
     ]
    }
   ],
   "source": [
    "import weboftruth as wot"
   ]
  },
  {
   "cell_type": "code",
   "execution_count": 3,
   "metadata": {},
   "outputs": [],
   "source": [
    "from os.path import join\n",
    "\n",
    "from torch import cuda\n",
    "from torch.optim import Adam \n",
    "import torch\n",
    "\n",
    "import numpy as np\n",
    "import pandas as pd\n",
    "\n",
    "import torchkge\n",
    "from torchkge.models import TransEModel\n",
    "from torchkge.sampling import BernoulliNegativeSampler\n",
    "from torchkge.utils import MarginLoss, DataLoader\n",
    "# from torchkge.utils.datasets import load_fb15k237\n",
    "from torchkge.utils.datasets import load_wikidatasets\n",
    "from torchkge.data_structures import KnowledgeGraph\n",
    "\n",
    "from sklearn.linear_model import LinearRegression, LogisticRegression, Ridge\n",
    "from sklearn.svm import SVC\n",
    "\n",
    "import argparse\n",
    "import os\n",
    "\n",
    "path = '..'\n",
    "wot.svo_data_path = join(path, 'data', 'SVO-tensor-dataset')\n",
    "wot.svo_paths = {k:join(wot.svo_data_path, str(k)) for k in [100, 80, 50]}\n",
    "wot.models_path = join(path, 'models')\n",
    "#print(wot.svo_paths)\n",
    "#wot.reset_paths('..')\n",
    "#print(wot.svo_paths)\n",
    "\n",
    "def modelslist(module):\n",
    "    return [x for x in dir(module) if 'model' in x.lower()]\n",
    "\n",
    "def exp_obj(x):\n",
    "    print([_ for _ in dir(x) if '__' not in _])"
   ]
  },
  {
   "cell_type": "code",
   "execution_count": 4,
   "metadata": {},
   "outputs": [],
   "source": [
    "df = pd.DataFrame({'from': {0: 'a', 1: 'b', 2: 'c'},\n",
    " 'to': {0: 'b', 1: 'c', 2: 'b'},\n",
    " 'rel': {0: '1', 1: '2', 2: '3'}})\n",
    "kg = KnowledgeGraph(df)"
   ]
  },
  {
   "cell_type": "code",
   "execution_count": 5,
   "metadata": {},
   "outputs": [
    {
     "data": {
      "text/plain": [
       "tensor([0, 1, 2])"
      ]
     },
     "execution_count": 5,
     "metadata": {},
     "output_type": "execute_result"
    }
   ],
   "source": [
    "kg.relations"
   ]
  },
  {
   "cell_type": "code",
   "execution_count": 6,
   "metadata": {},
   "outputs": [
    {
     "data": {
      "text/plain": [
       "['dict_of_heads',\n",
       " 'dict_of_tails',\n",
       " 'ent2ix',\n",
       " 'evaluate_dicts',\n",
       " 'get_mask',\n",
       " 'get_sizes',\n",
       " 'head_idx',\n",
       " 'n_ent',\n",
       " 'n_facts',\n",
       " 'n_rel',\n",
       " 'rel2ix',\n",
       " 'relations',\n",
       " 'sanity_check',\n",
       " 'split_kg',\n",
       " 'tail_idx']"
      ]
     },
     "execution_count": 6,
     "metadata": {},
     "output_type": "execute_result"
    }
   ],
   "source": [
    "[k for k in dir(kg) if '__' not in k]"
   ]
  },
  {
   "cell_type": "code",
   "execution_count": 7,
   "metadata": {},
   "outputs": [
    {
     "data": {
      "text/plain": [
       "defaultdict(set, {(1, 0): {0}, (2, 1): {1}, (1, 2): {2}})"
      ]
     },
     "execution_count": 7,
     "metadata": {},
     "output_type": "execute_result"
    }
   ],
   "source": [
    "kg.dict_of_heads"
   ]
  },
  {
   "cell_type": "code",
   "execution_count": 8,
   "metadata": {},
   "outputs": [
    {
     "data": {
      "text/plain": [
       "{'1': 0, '2': 1, '3': 2}"
      ]
     },
     "execution_count": 8,
     "metadata": {},
     "output_type": "execute_result"
    }
   ],
   "source": [
    "kg.rel2ix"
   ]
  },
  {
   "cell_type": "code",
   "execution_count": 9,
   "metadata": {},
   "outputs": [
    {
     "data": {
      "text/plain": [
       "{'a': 0, 'b': 1, 'c': 2}"
      ]
     },
     "execution_count": 9,
     "metadata": {},
     "output_type": "execute_result"
    }
   ],
   "source": [
    "kg.ent2ix"
   ]
  },
  {
   "cell_type": "code",
   "execution_count": 10,
   "metadata": {},
   "outputs": [
    {
     "name": "stdout",
     "output_type": "stream",
     "text": [
      "Path: /Users/aabir/Documents/research/weboftruth\n",
      "Model Type: TransE\n",
      "Epochs: 5\n",
      "Small: True\n",
      "Truth share: 100\n"
     ]
    }
   ],
   "source": [
    "path = '/Users/aabir/Documents/research/weboftruth'\n",
    "model_type = 'TransE'\n",
    "epochs = 5\n",
    "small = True\n",
    "ts = 100\n",
    "\n",
    "print(f\"Path: {path}\\nModel Type: {model_type}\")\n",
    "print(f\"Epochs: {epochs}\\nSmall: {small}\")\n",
    "print(f\"Truth share: {ts}\")\n",
    "for f in os.listdir(wot.svo_paths[ts]):\n",
    "    if 'train' in f: tr_fn = f\n",
    "    if 'valid' in f: val_fn = f\n",
    "    if 'test' in f: test_fn = f\n"
   ]
  },
  {
   "cell_type": "code",
   "execution_count": 11,
   "metadata": {},
   "outputs": [
    {
     "name": "stdout",
     "output_type": "stream",
     "text": [
      " saving trainkg to ../models/TransE_06/train_TransE_kg.csv\n",
      "Creating TransE in folder: ../models/TransE_06\n"
     ]
    }
   ],
   "source": [
    "\n",
    "#dfs = wot.utils.read_data(tr_fn, val_fn, test_fn,\n",
    "#                            wot.svo_paths[ts])\n",
    "#dfs = [df.drop('true_positive', axis=1\n",
    "#            ) if 'true_positive' in df.columns else df\n",
    "#            for df in dfs ]\n",
    "#tr_kg, val_kg, test_kg = (wot.utils.df_to_kg(df) for df in dfs)\n",
    "\n",
    "tr_kg = kg\n",
    "\n",
    "mod = wot.CustomTransModel(tr_kg, model_type=model_type,\n",
    "                                traints=ts, ent_emb_dim=2, rel_emb_dim=2,\n",
    "                                model_path = '../models/TransE_06')"
   ]
  },
  {
   "cell_type": "code",
   "execution_count": 12,
   "metadata": {},
   "outputs": [
    {
     "data": {
      "text/plain": [
       "'../models/TransE_06'"
      ]
     },
     "execution_count": 12,
     "metadata": {},
     "output_type": "execute_result"
    }
   ],
   "source": [
    "mod.model_path"
   ]
  },
  {
   "cell_type": "code",
   "execution_count": 13,
   "metadata": {
    "scrolled": true
   },
   "outputs": [
    {
     "data": {
      "application/vnd.jupyter.widget-view+json": {
       "model_id": "bb330e8268654f46b8e544a3dfeb5d94",
       "version_major": 2,
       "version_minor": 0
      },
      "text/plain": [
       "HBox(children=(HTML(value=''), FloatProgress(value=0.0, max=10.0), HTML(value='')))"
      ]
     },
     "metadata": {},
     "output_type": "display_data"
    },
    {
     "name": "stdout",
     "output_type": "stream",
     "text": [
      " saving TransE to ../models/TransE_06/e=1ts=100_TransE_model.pt\n",
      " saving TransE to ../models/TransE_06/best_ts=100_TransE_model.pt\n",
      " saving TransE to ../models/TransE_06/e=10ts=100_TransE_model.pt\n",
      "\n"
     ]
    },
    {
     "data": {
      "text/plain": [
       "3.6832730770111084"
      ]
     },
     "execution_count": 13,
     "metadata": {},
     "output_type": "execute_result"
    }
   ],
   "source": [
    "\n",
    "mod.set_sampler(samplerClass=BernoulliNegativeSampler, kg=tr_kg)\n",
    "mod.set_optimizer(optClass=Adam)\n",
    "mod.set_loss(lossClass=MarginLoss, margin=0.5)\n",
    "# Move everything to CUDA if available\n",
    "if cuda.is_available():\n",
    "    print(\"Using cuda.\")\n",
    "    cuda.empty_cache()\n",
    "    cuda.init()\n",
    "    mod.model.cuda()\n",
    "    mod.loss_fn.cuda()\n",
    "mod.train_model(10, tr_kg)\n",
    "mod.validate(tr_kg)\n"
   ]
  },
  {
   "cell_type": "code",
   "execution_count": 14,
   "metadata": {},
   "outputs": [],
   "source": [
    "ents, rels = mod.model.get_embeddings()"
   ]
  },
  {
   "cell_type": "code",
   "execution_count": 15,
   "metadata": {},
   "outputs": [
    {
     "data": {
      "text/plain": [
       "{'a': 0, 'b': 1, 'c': 2}"
      ]
     },
     "execution_count": 15,
     "metadata": {},
     "output_type": "execute_result"
    }
   ],
   "source": [
    "mod.trainkg.ent2ix"
   ]
  },
  {
   "cell_type": "code",
   "execution_count": 16,
   "metadata": {},
   "outputs": [
    {
     "data": {
      "text/plain": [
       "(tensor([0, 1, 2]), {'a': 0, 'b': 1, 'c': 2})"
      ]
     },
     "execution_count": 16,
     "metadata": {},
     "output_type": "execute_result"
    }
   ],
   "source": [
    "kg.relations, kg.ent2ix"
   ]
  },
  {
   "cell_type": "code",
   "execution_count": 17,
   "metadata": {},
   "outputs": [
    {
     "name": "stdout",
     "output_type": "stream",
     "text": [
      "0 0 1\n",
      "1 1 2\n",
      "2 2 1\n"
     ]
    }
   ],
   "source": [
    "for hr, t in [(k, v) for k, (v,) in kg.dict_of_tails.items()]:\n",
    "    print(hr[0], hr[1], t)"
   ]
  },
  {
   "cell_type": "code",
   "execution_count": 18,
   "metadata": {},
   "outputs": [
    {
     "data": {
      "text/html": [
       "<div>\n",
       "<style scoped>\n",
       "    .dataframe tbody tr th:only-of-type {\n",
       "        vertical-align: middle;\n",
       "    }\n",
       "\n",
       "    .dataframe tbody tr th {\n",
       "        vertical-align: top;\n",
       "    }\n",
       "\n",
       "    .dataframe thead th {\n",
       "        text-align: right;\n",
       "    }\n",
       "</style>\n",
       "<table border=\"1\" class=\"dataframe\">\n",
       "  <thead>\n",
       "    <tr style=\"text-align: right;\">\n",
       "      <th></th>\n",
       "      <th>from</th>\n",
       "      <th>to</th>\n",
       "      <th>rel</th>\n",
       "    </tr>\n",
       "  </thead>\n",
       "  <tbody>\n",
       "    <tr>\n",
       "      <th>0</th>\n",
       "      <td>a</td>\n",
       "      <td>b</td>\n",
       "      <td>1</td>\n",
       "    </tr>\n",
       "    <tr>\n",
       "      <th>1</th>\n",
       "      <td>b</td>\n",
       "      <td>c</td>\n",
       "      <td>2</td>\n",
       "    </tr>\n",
       "    <tr>\n",
       "      <th>2</th>\n",
       "      <td>c</td>\n",
       "      <td>b</td>\n",
       "      <td>3</td>\n",
       "    </tr>\n",
       "  </tbody>\n",
       "</table>\n",
       "</div>"
      ],
      "text/plain": [
       "  from to rel\n",
       "0    a  b   1\n",
       "1    b  c   2\n",
       "2    c  b   3"
      ]
     },
     "execution_count": 18,
     "metadata": {},
     "output_type": "execute_result"
    }
   ],
   "source": [
    "wot.utils.kg_to_df(kg)"
   ]
  },
  {
   "cell_type": "code",
   "execution_count": 19,
   "metadata": {},
   "outputs": [
    {
     "name": "stdout",
     "output_type": "stream",
     "text": [
      "[3, 4, 5, 2, 1, 6]\n"
     ]
    }
   ],
   "source": [
    "all_is = [int(d.split('_')[1]) for d in os.listdir('../models')\n",
    "                        #all items in model path\n",
    "                        if os.path.isdir(join('../models', d)\n",
    "                        # that are directories\n",
    "                        ) and f'TransE_' in d]\n",
    "                        #and are of type self.model_type\n",
    "print(all_is)"
   ]
  },
  {
   "cell_type": "code",
   "execution_count": 20,
   "metadata": {},
   "outputs": [],
   "source": [
    "i = [x for x in range(1, len(all_is)+2) if x not in all_is][0]"
   ]
  },
  {
   "cell_type": "code",
   "execution_count": 21,
   "metadata": {},
   "outputs": [
    {
     "data": {
      "text/plain": [
       "<torchkge.data_structures.KnowledgeGraph at 0x7fba284485f8>"
      ]
     },
     "execution_count": 21,
     "metadata": {},
     "output_type": "execute_result"
    }
   ],
   "source": [
    "wot.load_kg('../models/TransE_06')"
   ]
  },
  {
   "cell_type": "code",
   "execution_count": 22,
   "metadata": {},
   "outputs": [
    {
     "name": "stdout",
     "output_type": "stream",
     "text": [
      "best_ts=100_TransE_model.pt\n",
      "250\n"
     ]
    }
   ],
   "source": [
    "\n",
    "evl8 = wot.evaluator.Evaluator('../models/TransE_06', trainkg=kg)\n",
    "\n",
    "x_tr, y_tr = evl8.get_svo_model_embeddings(filepath=None, sovs=[(0, 1, 0), (1, 2, 1), (2, 1, 2),\n",
    "                                                       (0, 2, 0), (1, 0, 2), (2, 1, 0)], \n",
    "                                                 Ys = np.array([1, 1, 1, 0, 0, 0]))\n",
    "\n",
    "x_te, y_te = evl8.get_svo_model_embeddings(filepath=None, sovs=[(0, 1, 0), (1, 2, 1),(0, 2, 1), (1, 2, 2)],\n",
    "                                           Ys = np.array([1, 1, 0, 0]))"
   ]
  },
  {
   "cell_type": "code",
   "execution_count": 23,
   "metadata": {},
   "outputs": [
    {
     "name": "stdout",
     "output_type": "stream",
     "text": [
      "Train accuracy on LinearRegression(): 83.33333333333334 %\n",
      "Test accuracy on LinearRegression(): 50.0 %\n",
      "Train accuracy on Ridge(): 50.0 %\n",
      "Test accuracy on Ridge(): 50.0 %\n",
      "Train accuracy on SVC(): 100.0 %\n",
      "Test accuracy on SVC(): 50.0 %\n"
     ]
    }
   ],
   "source": [
    "for predmodel in [LinearRegression, Ridge, SVC]:\n",
    "    evl8.set_pred_model(predmodel)\n",
    "    evl8.train_pred_model(x_tr, y_tr)\n",
    "    evl8.evaluate_pred_model(x_te, y_te)"
   ]
  },
  {
   "cell_type": "code",
   "execution_count": null,
   "metadata": {},
   "outputs": [],
   "source": []
  }
 ],
 "metadata": {
  "kernelspec": {
   "display_name": "Python 3",
   "language": "python",
   "name": "python3"
  },
  "language_info": {
   "codemirror_mode": {
    "name": "ipython",
    "version": 3
   },
   "file_extension": ".py",
   "mimetype": "text/x-python",
   "name": "python",
   "nbconvert_exporter": "python",
   "pygments_lexer": "ipython3",
   "version": "3.6.10"
  }
 },
 "nbformat": 4,
 "nbformat_minor": 4
}
