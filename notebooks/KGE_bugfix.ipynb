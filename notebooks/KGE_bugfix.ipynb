{
 "cells": [
  {
   "cell_type": "code",
   "execution_count": 1,
   "metadata": {},
   "outputs": [],
   "source": [
    "! pip -q install -e .."
   ]
  },
  {
   "cell_type": "code",
   "execution_count": 2,
   "metadata": {},
   "outputs": [
    {
     "name": "stdout",
     "output_type": "stream",
     "text": [
      "Warning: models folder may not exist\n"
     ]
    }
   ],
   "source": [
    "import weboftruth as wot"
   ]
  },
  {
   "cell_type": "code",
   "execution_count": 3,
   "metadata": {},
   "outputs": [],
   "source": [
    "from os.path import join\n",
    "\n",
    "from torch import cuda\n",
    "from torch.optim import Adam \n",
    "import torch\n",
    "\n",
    "import pandas as pd\n",
    "import torchkge\n",
    "from torchkge.models import TransEModel\n",
    "from torchkge.sampling import BernoulliNegativeSampler\n",
    "from torchkge.utils import MarginLoss, DataLoader\n",
    "# from torchkge.utils.datasets import load_fb15k237\n",
    "from torchkge.utils.datasets import load_wikidatasets\n",
    "from torchkge.data_structures import KnowledgeGraph\n",
    "\n",
    "import argparse\n",
    "import os\n",
    "\n",
    "path = '..'\n",
    "wot.svo_data_path = join(path, 'data', 'SVO-tensor-dataset')\n",
    "wot.svo_paths = {k:join(wot.svo_data_path, str(k)) for k in [100, 80, 50]}\n",
    "wot.models_path = join(path, 'models')\n",
    "#print(wot.svo_paths)\n",
    "#wot.reset_paths('..')\n",
    "#print(wot.svo_paths)\n",
    "\n",
    "def modelslist(module):\n",
    "    return [x for x in dir(module) if 'model' in x.lower()]\n",
    "\n",
    "def exp_obj(x):\n",
    "    print([_ for _ in dir(x) if '__' not in _])"
   ]
  },
  {
   "cell_type": "code",
   "execution_count": 4,
   "metadata": {},
   "outputs": [],
   "source": [
    "df = pd.DataFrame({'from': {0: 'a', 1: 'b', 2: 'c'},\n",
    " 'to': {0: 'b', 1: 'c', 2: 'b'},\n",
    " 'rel': {0: '1', 1: '2', 2: '3'}})\n",
    "kg = KnowledgeGraph(df)"
   ]
  },
  {
   "cell_type": "code",
   "execution_count": 5,
   "metadata": {},
   "outputs": [
    {
     "data": {
      "text/plain": [
       "tensor([0, 1, 2])"
      ]
     },
     "execution_count": 5,
     "metadata": {},
     "output_type": "execute_result"
    }
   ],
   "source": [
    "kg.relations"
   ]
  },
  {
   "cell_type": "code",
   "execution_count": 6,
   "metadata": {},
   "outputs": [
    {
     "data": {
      "text/plain": [
       "['dict_of_heads',\n",
       " 'dict_of_tails',\n",
       " 'ent2ix',\n",
       " 'evaluate_dicts',\n",
       " 'get_mask',\n",
       " 'get_sizes',\n",
       " 'head_idx',\n",
       " 'n_ent',\n",
       " 'n_facts',\n",
       " 'n_rel',\n",
       " 'rel2ix',\n",
       " 'relations',\n",
       " 'sanity_check',\n",
       " 'split_kg',\n",
       " 'tail_idx']"
      ]
     },
     "execution_count": 6,
     "metadata": {},
     "output_type": "execute_result"
    }
   ],
   "source": [
    "[k for k in dir(kg) if '__' not in k]"
   ]
  },
  {
   "cell_type": "code",
   "execution_count": 7,
   "metadata": {},
   "outputs": [
    {
     "data": {
      "text/plain": [
       "defaultdict(set, {(1, 0): {0}, (2, 1): {1}, (1, 2): {2}})"
      ]
     },
     "execution_count": 7,
     "metadata": {},
     "output_type": "execute_result"
    }
   ],
   "source": [
    "kg.dict_of_heads"
   ]
  },
  {
   "cell_type": "code",
   "execution_count": 8,
   "metadata": {},
   "outputs": [
    {
     "data": {
      "text/plain": [
       "{'1': 0, '2': 1, '3': 2}"
      ]
     },
     "execution_count": 8,
     "metadata": {},
     "output_type": "execute_result"
    }
   ],
   "source": [
    "kg.rel2ix"
   ]
  },
  {
   "cell_type": "code",
   "execution_count": 9,
   "metadata": {},
   "outputs": [
    {
     "data": {
      "text/plain": [
       "{'a': 0, 'b': 1, 'c': 2}"
      ]
     },
     "execution_count": 9,
     "metadata": {},
     "output_type": "execute_result"
    }
   ],
   "source": [
    "kg.ent2ix"
   ]
  },
  {
   "cell_type": "code",
   "execution_count": 10,
   "metadata": {},
   "outputs": [
    {
     "name": "stdout",
     "output_type": "stream",
     "text": [
      "Path: /Users/aabir/Documents/research/weboftruth\n",
      "Model Type: TransE\n",
      "Epochs: 5\n",
      "Small: True\n",
      "Truth share: 100\n"
     ]
    }
   ],
   "source": [
    "path = '/Users/aabir/Documents/research/weboftruth'\n",
    "model_type = 'TransE'\n",
    "epochs = 5\n",
    "small = True\n",
    "ts = 100\n",
    "\n",
    "print(f\"Path: {path}\\nModel Type: {model_type}\")\n",
    "print(f\"Epochs: {epochs}\\nSmall: {small}\")\n",
    "print(f\"Truth share: {ts}\")\n",
    "for f in os.listdir(wot.svo_paths[ts]):\n",
    "    if 'train' in f: tr_fn = f\n",
    "    if 'valid' in f: val_fn = f\n",
    "    if 'test' in f: test_fn = f\n"
   ]
  },
  {
   "cell_type": "code",
   "execution_count": 11,
   "metadata": {},
   "outputs": [
    {
     "name": "stdout",
     "output_type": "stream",
     "text": [
      "!! 3 3\n",
      "Creating TransE in folder: ../models/TransE_05\n"
     ]
    }
   ],
   "source": [
    "\n",
    "#dfs = wot.utils.read_data(tr_fn, val_fn, test_fn,\n",
    "#                            wot.svo_paths[ts])\n",
    "#dfs = [df.drop('true_positive', axis=1\n",
    "#            ) if 'true_positive' in df.columns else df\n",
    "#            for df in dfs ]\n",
    "#tr_kg, val_kg, test_kg = (wot.utils.df_to_kg(df) for df in dfs)\n",
    "\n",
    "tr_kg = kg\n",
    "\n",
    "mod = wot.CustomTransModel(tr_kg, model_type=model_type,\n",
    "                                ts=ts, ent_emb_dim=2, rel_emb_dim=2)"
   ]
  },
  {
   "cell_type": "code",
   "execution_count": 12,
   "metadata": {},
   "outputs": [
    {
     "data": {
      "application/vnd.jupyter.widget-view+json": {
       "model_id": "7ee9d505bd1948d38b67b1e35a15c188",
       "version_major": 2,
       "version_minor": 0
      },
      "text/plain": [
       "HBox(children=(HTML(value=''), FloatProgress(value=0.0, max=10.0), HTML(value='')))"
      ]
     },
     "metadata": {},
     "output_type": "display_data"
    },
    {
     "name": "stdout",
     "output_type": "stream",
     "text": [
      " saving fTransE to ../models/TransE_05/e=1_ts=_TransE_model.pt\n",
      " saving fTransE to ../models/TransE_05/best_e=1_ts=_TransE_model.pt\n",
      " saving fTransE to ../models/TransE_05/e=10_ts=_TransE_model.pt\n",
      "\n"
     ]
    },
    {
     "data": {
      "text/plain": [
       "3.6832730770111084"
      ]
     },
     "execution_count": 12,
     "metadata": {},
     "output_type": "execute_result"
    }
   ],
   "source": [
    "\n",
    "mod.set_sampler(samplerClass=BernoulliNegativeSampler, kg=tr_kg)\n",
    "mod.set_optimizer(optClass=Adam)\n",
    "mod.set_loss(lossClass=MarginLoss, margin=0.5)\n",
    "# Move everything to CUDA if available\n",
    "if cuda.is_available():\n",
    "    print(\"Using cuda.\")\n",
    "    cuda.empty_cache()\n",
    "    cuda.init()\n",
    "    mod.model.cuda()\n",
    "    mod.loss_fn.cuda()\n",
    "mod.train_model(10, tr_kg)\n",
    "mod.validate(tr_kg)\n"
   ]
  },
  {
   "cell_type": "code",
   "execution_count": 13,
   "metadata": {},
   "outputs": [
    {
     "data": {
      "text/plain": [
       "weboftruth.wotmodels.CustomTransModel"
      ]
     },
     "execution_count": 13,
     "metadata": {},
     "output_type": "execute_result"
    }
   ],
   "source": [
    "type(mod)"
   ]
  },
  {
   "cell_type": "code",
   "execution_count": 17,
   "metadata": {
    "scrolled": true
   },
   "outputs": [
    {
     "data": {
      "text/plain": [
       "<torchkge.data_structures.KnowledgeGraph at 0x7fd9183d9630>"
      ]
     },
     "execution_count": 17,
     "metadata": {},
     "output_type": "execute_result"
    }
   ],
   "source": [
    "mod.trainkg"
   ]
  },
  {
   "cell_type": "code",
   "execution_count": 18,
   "metadata": {},
   "outputs": [
    {
     "data": {
      "text/plain": [
       "TransEModel(\n",
       "  (ent_emb): Embedding(3, 250)\n",
       "  (rel_emb): Embedding(3, 250)\n",
       ")"
      ]
     },
     "execution_count": 18,
     "metadata": {},
     "output_type": "execute_result"
    }
   ],
   "source": [
    "mod.model"
   ]
  },
  {
   "cell_type": "code",
   "execution_count": 19,
   "metadata": {},
   "outputs": [],
   "source": [
    "ents, rels = mod.model.get_embeddings()"
   ]
  },
  {
   "cell_type": "code",
   "execution_count": 22,
   "metadata": {},
   "outputs": [
    {
     "data": {
      "text/plain": [
       "{'a': 0, 'b': 1, 'c': 2}"
      ]
     },
     "execution_count": 22,
     "metadata": {},
     "output_type": "execute_result"
    }
   ],
   "source": [
    "mod.trainkg.ent2ix"
   ]
  },
  {
   "cell_type": "code",
   "execution_count": 24,
   "metadata": {},
   "outputs": [
    {
     "data": {
      "text/plain": [
       "(tensor([0, 1, 2]), {'a': 0, 'b': 1, 'c': 2})"
      ]
     },
     "execution_count": 24,
     "metadata": {},
     "output_type": "execute_result"
    }
   ],
   "source": [
    "kg.relations, kg.ent2ix"
   ]
  },
  {
   "cell_type": "code",
   "execution_count": null,
   "metadata": {},
   "outputs": [],
   "source": [
    "for hr, t in [(k, v) for k, (v,) in kg.dict_of_tails.items()]:\n",
    "    print(hr[0], hr[1], t)"
   ]
  },
  {
   "cell_type": "code",
   "execution_count": 26,
   "metadata": {},
   "outputs": [
    {
     "data": {
      "text/html": [
       "<div>\n",
       "<style scoped>\n",
       "    .dataframe tbody tr th:only-of-type {\n",
       "        vertical-align: middle;\n",
       "    }\n",
       "\n",
       "    .dataframe tbody tr th {\n",
       "        vertical-align: top;\n",
       "    }\n",
       "\n",
       "    .dataframe thead th {\n",
       "        text-align: right;\n",
       "    }\n",
       "</style>\n",
       "<table border=\"1\" class=\"dataframe\">\n",
       "  <thead>\n",
       "    <tr style=\"text-align: right;\">\n",
       "      <th></th>\n",
       "      <th>from</th>\n",
       "      <th>to</th>\n",
       "      <th>rel</th>\n",
       "    </tr>\n",
       "  </thead>\n",
       "  <tbody>\n",
       "    <tr>\n",
       "      <th>0</th>\n",
       "      <td>a</td>\n",
       "      <td>b</td>\n",
       "      <td>1</td>\n",
       "    </tr>\n",
       "    <tr>\n",
       "      <th>1</th>\n",
       "      <td>b</td>\n",
       "      <td>c</td>\n",
       "      <td>2</td>\n",
       "    </tr>\n",
       "    <tr>\n",
       "      <th>2</th>\n",
       "      <td>c</td>\n",
       "      <td>b</td>\n",
       "      <td>3</td>\n",
       "    </tr>\n",
       "  </tbody>\n",
       "</table>\n",
       "</div>"
      ],
      "text/plain": [
       "  from to rel\n",
       "0    a  b   1\n",
       "1    b  c   2\n",
       "2    c  b   3"
      ]
     },
     "execution_count": 26,
     "metadata": {},
     "output_type": "execute_result"
    }
   ],
   "source": [
    "wot.utils.kg_to_df(kg)"
   ]
  },
  {
   "cell_type": "code",
   "execution_count": null,
   "metadata": {},
   "outputs": [],
   "source": []
  }
 ],
 "metadata": {
  "kernelspec": {
   "display_name": "Python 3",
   "language": "python",
   "name": "python3"
  },
  "language_info": {
   "codemirror_mode": {
    "name": "ipython",
    "version": 3
   },
   "file_extension": ".py",
   "mimetype": "text/x-python",
   "name": "python",
   "nbconvert_exporter": "python",
   "pygments_lexer": "ipython3",
   "version": "3.6.10"
  }
 },
 "nbformat": 4,
 "nbformat_minor": 4
}
