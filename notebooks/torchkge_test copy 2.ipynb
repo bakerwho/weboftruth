{
 "cells": [
  {
   "cell_type": "code",
   "execution_count": 3,
   "metadata": {},
   "outputs": [],
   "source": [
    "import pandas as pd\n",
    "import pickle\n",
    "import os\n",
    "from os.path import join\n",
    "import numpy as np\n",
    "\n",
    "import torch\n",
    "from torch import cuda\n",
    "from torch.optim import Adam\n",
    "\n",
    "import torchkge\n",
    "from torchkge.models import Model, TransEModel\n",
    "from torchkge.sampling import BernoulliNegativeSampler\n",
    "from torchkge.utils import MarginLoss, DataLoader\n",
    "\n",
    "from tqdm.autonotebook import tqdm\n",
    "\n",
    "## pathnames-adarshm\n",
    "wot_path = '../'\n",
    "svo_data_path = join(wot_path, 'data/SVO-tensor-dataset')"
   ]
  },
  {
   "cell_type": "code",
   "execution_count": 4,
   "metadata": {},
   "outputs": [],
   "source": [
    "model_path = join(wot_path, 'models')\n",
    "\n",
    "os.makedirs(model_path, exist_ok=True)\n",
    "\n",
    "files = os.listdir(svo_data_path)\n",
    "for f in files:\n",
    "    if 'train' in f: tr_fp = f\n",
    "    if 'valid' in f: val_fp = f\n",
    "    if 'test' in f: test_fp = f\n",
    "\n",
    "def read_data(tr_fp, val_fp, test_fp):\n",
    "    tr_df = pd.read_csv(join(svo_data_path, tr_fp),\n",
    "                       sep='\\t', header=None, names=['from', 'rel', 'to'])\n",
    "    val_df = pd.read_csv(join(svo_data_path, val_fp),\n",
    "                       sep='\\t', header=None, names=['from', 'rel', 'to'])\n",
    "    test_df = pd.read_csv(join(svo_data_path, test_fp),\n",
    "                       sep='\\t', header=None, names=['from', 'rel', 'to'])\n",
    "    return tr_df, val_df, test_df"
   ]
  },
  {
   "cell_type": "code",
   "execution_count": 18,
   "metadata": {},
   "outputs": [],
   "source": [
    "class CustomTransModel(torchkge.models.interfaces.TranslationModel):\n",
    "    def __init__(self, kg, model_type, **kwargs):\n",
    "        self.kg = kg\n",
    "        self.diss_type = kwargs.pop('diss_type', 'L2')\n",
    "        super().__init__(self.kg.n_ent, self.kg.n_rel, self.diss_type)\n",
    "\n",
    "        if model_type in ['TransR', 'TransD', 'TorusE']:\n",
    "            self.ent_emb_dim = kwargs.pop('ent_emb_dim', 250)\n",
    "            self.rel_emb_dim = kwargs.pop('rel_emb_dim', 250)\n",
    "            self.model = getattr(torchkge.models, model_type + 'Model')(self.ent_emb_dim,\n",
    "                                    self.rel_emb_dim, n_entities = self.kg.n_ent, n_relations = self.kg.n_rel)\n",
    "        else:\n",
    "            self.emb_dim = kwargs.pop('emb_dim', 250)\n",
    "            self.model = getattr(torchkge.models, model_type + 'Model')(self.emb_dim, n_entities = self.kg.n_ent, \n",
    "                                    n_relations = self.kg.n_rel)\n",
    "        \n",
    "        ## Hyper-parameters\n",
    "        self.lr = kwargs.pop('lr', 0.0004)\n",
    "        self.n_epochs = kwargs.pop('n_epochs', 100)\n",
    "        self.b_size = kwargs.pop('b_size', 64)\n",
    "        \n",
    "        # Legacy code\n",
    "        # super(CustomTransModel, self).__init__(self.emb_dim, kg.n_ent, kg.n_rel,\n",
    "        #                     dissimilarity_type=self.diss_type)\n",
    "\n",
    "        if cuda.is_available():\n",
    "            print(cuda.is_available())\n",
    "            cuda.empty_cache()\n",
    "            self.model.cuda()\n",
    "        \n",
    "        try:\n",
    "            self.dataloader = DataLoader(self.kg, batch_size=self.b_size, use_cuda='all')\n",
    "        except AssertionError:\n",
    "            self.dataloader = DataLoader(kg, batch_size=self.b_size)\n",
    "\n",
    "        ## Logger\n",
    "        self.epochs=0\n",
    "        self.tr_losses=[]\n",
    "        self.best_epoch=-1\n",
    "        self.val_losses=[]\n",
    "\n",
    "    def set_optimizer(self, optClass=Adam, **kwargs):\n",
    "        self.optimizer = optClass(self.model.parameters(), lr=self.lr,\n",
    "                                    **kwargs)\n",
    "\n",
    "    def set_sampler(self, samplerClass=BernoulliNegativeSampler, **kwargs):\n",
    "        self.sampler = samplerClass(**kwargs)\n",
    "\n",
    "    def set_loss(self, lossClass=MarginLoss, **kwargs):\n",
    "        self.loss_fn = lossClass(**kwargs)\n",
    "        try:\n",
    "            self.loss_fn.cuda()\n",
    "        except:\n",
    "            pass\n",
    "\n",
    "    def one_epoch(self):\n",
    "        running_loss = 0.0\n",
    "        for i, batch in enumerate(self.dataloader):\n",
    "            h, t, r = batch\n",
    "            n_h, n_t = self.sampler.corrupt_batch(h, t, r)\n",
    "            self.optimizer.zero_grad()\n",
    "            pos, neg = self.model(h, t, n_h, n_t, r)\n",
    "            loss = self.loss_fn(pos, neg)\n",
    "            loss.backward()\n",
    "            self.optimizer.step()\n",
    "            running_loss += loss.item()\n",
    "        self.model.normalize_parameters()\n",
    "        self.epochs += 1\n",
    "        epoch_loss = running_loss/i\n",
    "        self.tr_losses.append(epoch_loss)\n",
    "        return epoch_loss\n",
    "\n",
    "    def validate(self, val_kg):\n",
    "        losses = []\n",
    "        for i, batch in enumerate(DataLoader(val_kg, batch_size=self.b_size)):\n",
    "            h, t, r = batch\n",
    "            n_h, n_t = self.sampler.corrupt_batch(h, t, r)\n",
    "            pos, neg = self.model(h, t, n_h, n_t, r)\n",
    "            loss = self.loss_fn(pos, neg)\n",
    "            losses.append(loss.item())\n",
    "        return np.mean(losses)\n",
    "\n",
    "    def train_model(self, n_epochs, val_kg):\n",
    "        self.model.normalize_parameters()\n",
    "        epochs = tqdm(range(n_epochs), unit='epoch')\n",
    "        for epoch in epochs:\n",
    "            mean_epoch_loss = self.one_epoch()\n",
    "            if (epoch+1%100)==0 or epoch==0:\n",
    "                torch.save(self.model.state_dict(), join(model_path,\n",
    "                                                    'transe_model.pt'))\n",
    "                val_loss = self.validate(val_kg)\n",
    "                if not self.val_losses or val_loss < min(self.val_losses):\n",
    "                    self.best_epoch = epoch\n",
    "                    torch.save(self.model.state_dict(), join(model_path, \n",
    "                                'best_transe_model.pt'))\n",
    "            epochs.set_description(\n",
    "                'Epoch {} | mean loss: {:.5f}'.format(epoch + 1, mean_epoch_loss))\n"
   ]
  },
  {
   "cell_type": "code",
   "execution_count": 6,
   "metadata": {},
   "outputs": [],
   "source": [
    "tr_df, val_df, test_df = read_data(tr_fp, val_fp, test_fp)\n",
    "sizes = [df.shape[0] for df in (tr_df, val_df, test_df)]\n",
    "full_df = pd.concat([tr_df, val_df, test_df])"
   ]
  },
  {
   "cell_type": "code",
   "execution_count": 7,
   "metadata": {},
   "outputs": [],
   "source": [
    "full_kg = torchkge.data_structures.KnowledgeGraph(full_df)\n",
    "tr_kg, val_kg, test_kg = full_kg.split_kg(sizes=sizes)"
   ]
  },
  {
   "cell_type": "code",
   "execution_count": 19,
   "metadata": {},
   "outputs": [
    {
     "output_type": "stream",
     "name": "stdout",
     "text": "True\n"
    }
   ],
   "source": [
    "te_mod = CustomTransModel(tr_kg, model_type = 'TransE', n_epochs = 2)\n",
    "te_mod.set_sampler(samplerClass=BernoulliNegativeSampler, kg=tr_kg)\n",
    "te_mod.set_optimizer(optClass=Adam)\n",
    "te_mod.set_loss(lossClass=MarginLoss, margin=0.5)"
   ]
  },
  {
   "cell_type": "code",
   "execution_count": 20,
   "metadata": {},
   "outputs": [
    {
     "output_type": "stream",
     "name": "stderr",
     "text": "0%|          | 0/2 [03:39<?, ?epoch/s]\n"
    },
    {
     "output_type": "error",
     "ename": "KeyboardInterrupt",
     "evalue": "",
     "traceback": [
      "\u001b[1;31m---------------------------------------------------------------------------\u001b[0m",
      "\u001b[1;31mKeyboardInterrupt\u001b[0m                         Traceback (most recent call last)",
      "\u001b[1;32m<ipython-input-20-7c39574952e1>\u001b[0m in \u001b[0;36m<module>\u001b[1;34m\u001b[0m\n\u001b[1;32m----> 1\u001b[1;33m \u001b[0mte_mod\u001b[0m\u001b[1;33m.\u001b[0m\u001b[0mtrain_model\u001b[0m\u001b[1;33m(\u001b[0m\u001b[1;36m2\u001b[0m\u001b[1;33m,\u001b[0m \u001b[0mval_kg\u001b[0m\u001b[1;33m)\u001b[0m\u001b[1;33m\u001b[0m\u001b[1;33m\u001b[0m\u001b[0m\n\u001b[0m",
      "\u001b[1;32m<ipython-input-18-3a211e51f357>\u001b[0m in \u001b[0;36mtrain_model\u001b[1;34m(self, n_epochs, val_kg)\u001b[0m\n\u001b[0;32m     85\u001b[0m         \u001b[0mepochs\u001b[0m \u001b[1;33m=\u001b[0m \u001b[0mtqdm\u001b[0m\u001b[1;33m(\u001b[0m\u001b[0mrange\u001b[0m\u001b[1;33m(\u001b[0m\u001b[0mn_epochs\u001b[0m\u001b[1;33m)\u001b[0m\u001b[1;33m,\u001b[0m \u001b[0munit\u001b[0m\u001b[1;33m=\u001b[0m\u001b[1;34m'epoch'\u001b[0m\u001b[1;33m)\u001b[0m\u001b[1;33m\u001b[0m\u001b[1;33m\u001b[0m\u001b[0m\n\u001b[0;32m     86\u001b[0m         \u001b[1;32mfor\u001b[0m \u001b[0mepoch\u001b[0m \u001b[1;32min\u001b[0m \u001b[0mepochs\u001b[0m\u001b[1;33m:\u001b[0m\u001b[1;33m\u001b[0m\u001b[1;33m\u001b[0m\u001b[0m\n\u001b[1;32m---> 87\u001b[1;33m             \u001b[0mmean_epoch_loss\u001b[0m \u001b[1;33m=\u001b[0m \u001b[0mself\u001b[0m\u001b[1;33m.\u001b[0m\u001b[0mone_epoch\u001b[0m\u001b[1;33m(\u001b[0m\u001b[1;33m)\u001b[0m\u001b[1;33m\u001b[0m\u001b[1;33m\u001b[0m\u001b[0m\n\u001b[0m\u001b[0;32m     88\u001b[0m             \u001b[1;32mif\u001b[0m \u001b[1;33m(\u001b[0m\u001b[0mepoch\u001b[0m\u001b[1;33m+\u001b[0m\u001b[1;36m1\u001b[0m\u001b[1;33m%\u001b[0m\u001b[1;36m100\u001b[0m\u001b[1;33m)\u001b[0m\u001b[1;33m==\u001b[0m\u001b[1;36m0\u001b[0m \u001b[1;32mor\u001b[0m \u001b[0mepoch\u001b[0m\u001b[1;33m==\u001b[0m\u001b[1;36m0\u001b[0m\u001b[1;33m:\u001b[0m\u001b[1;33m\u001b[0m\u001b[1;33m\u001b[0m\u001b[0m\n\u001b[0;32m     89\u001b[0m                 torch.save(self.model.state_dict(), join(model_path,\n",
      "\u001b[1;32m<ipython-input-18-3a211e51f357>\u001b[0m in \u001b[0;36mone_epoch\u001b[1;34m(self)\u001b[0m\n\u001b[0;32m     62\u001b[0m             \u001b[0mpos\u001b[0m\u001b[1;33m,\u001b[0m \u001b[0mneg\u001b[0m \u001b[1;33m=\u001b[0m \u001b[0mself\u001b[0m\u001b[1;33m.\u001b[0m\u001b[0mmodel\u001b[0m\u001b[1;33m(\u001b[0m\u001b[0mh\u001b[0m\u001b[1;33m,\u001b[0m \u001b[0mt\u001b[0m\u001b[1;33m,\u001b[0m \u001b[0mn_h\u001b[0m\u001b[1;33m,\u001b[0m \u001b[0mn_t\u001b[0m\u001b[1;33m,\u001b[0m \u001b[0mr\u001b[0m\u001b[1;33m)\u001b[0m\u001b[1;33m\u001b[0m\u001b[1;33m\u001b[0m\u001b[0m\n\u001b[0;32m     63\u001b[0m             \u001b[0mloss\u001b[0m \u001b[1;33m=\u001b[0m \u001b[0mself\u001b[0m\u001b[1;33m.\u001b[0m\u001b[0mloss_fn\u001b[0m\u001b[1;33m(\u001b[0m\u001b[0mpos\u001b[0m\u001b[1;33m,\u001b[0m \u001b[0mneg\u001b[0m\u001b[1;33m)\u001b[0m\u001b[1;33m\u001b[0m\u001b[1;33m\u001b[0m\u001b[0m\n\u001b[1;32m---> 64\u001b[1;33m             \u001b[0mloss\u001b[0m\u001b[1;33m.\u001b[0m\u001b[0mbackward\u001b[0m\u001b[1;33m(\u001b[0m\u001b[1;33m)\u001b[0m\u001b[1;33m\u001b[0m\u001b[1;33m\u001b[0m\u001b[0m\n\u001b[0m\u001b[0;32m     65\u001b[0m             \u001b[0mself\u001b[0m\u001b[1;33m.\u001b[0m\u001b[0moptimizer\u001b[0m\u001b[1;33m.\u001b[0m\u001b[0mstep\u001b[0m\u001b[1;33m(\u001b[0m\u001b[1;33m)\u001b[0m\u001b[1;33m\u001b[0m\u001b[1;33m\u001b[0m\u001b[0m\n\u001b[0;32m     66\u001b[0m             \u001b[0mrunning_loss\u001b[0m \u001b[1;33m+=\u001b[0m \u001b[0mloss\u001b[0m\u001b[1;33m.\u001b[0m\u001b[0mitem\u001b[0m\u001b[1;33m(\u001b[0m\u001b[1;33m)\u001b[0m\u001b[1;33m\u001b[0m\u001b[1;33m\u001b[0m\u001b[0m\n",
      "\u001b[1;32m~\\Anaconda3\\lib\\site-packages\\torch\\tensor.py\u001b[0m in \u001b[0;36mbackward\u001b[1;34m(self, gradient, retain_graph, create_graph)\u001b[0m\n\u001b[0;32m    196\u001b[0m                 \u001b[0mproducts\u001b[0m\u001b[1;33m.\u001b[0m \u001b[0mDefaults\u001b[0m \u001b[0mto\u001b[0m\u001b[0;31m \u001b[0m\u001b[0;31m`\u001b[0m\u001b[0;31m`\u001b[0m\u001b[1;32mFalse\u001b[0m\u001b[0;31m`\u001b[0m\u001b[0;31m`\u001b[0m\u001b[1;33m.\u001b[0m\u001b[1;33m\u001b[0m\u001b[1;33m\u001b[0m\u001b[0m\n\u001b[0;32m    197\u001b[0m         \"\"\"\n\u001b[1;32m--> 198\u001b[1;33m         \u001b[0mtorch\u001b[0m\u001b[1;33m.\u001b[0m\u001b[0mautograd\u001b[0m\u001b[1;33m.\u001b[0m\u001b[0mbackward\u001b[0m\u001b[1;33m(\u001b[0m\u001b[0mself\u001b[0m\u001b[1;33m,\u001b[0m \u001b[0mgradient\u001b[0m\u001b[1;33m,\u001b[0m \u001b[0mretain_graph\u001b[0m\u001b[1;33m,\u001b[0m \u001b[0mcreate_graph\u001b[0m\u001b[1;33m)\u001b[0m\u001b[1;33m\u001b[0m\u001b[1;33m\u001b[0m\u001b[0m\n\u001b[0m\u001b[0;32m    199\u001b[0m \u001b[1;33m\u001b[0m\u001b[0m\n\u001b[0;32m    200\u001b[0m     \u001b[1;32mdef\u001b[0m \u001b[0mregister_hook\u001b[0m\u001b[1;33m(\u001b[0m\u001b[0mself\u001b[0m\u001b[1;33m,\u001b[0m \u001b[0mhook\u001b[0m\u001b[1;33m)\u001b[0m\u001b[1;33m:\u001b[0m\u001b[1;33m\u001b[0m\u001b[1;33m\u001b[0m\u001b[0m\n",
      "\u001b[1;32m~\\Anaconda3\\lib\\site-packages\\torch\\autograd\\__init__.py\u001b[0m in \u001b[0;36mbackward\u001b[1;34m(tensors, grad_tensors, retain_graph, create_graph, grad_variables)\u001b[0m\n\u001b[0;32m     98\u001b[0m     Variable._execution_engine.run_backward(\n\u001b[0;32m     99\u001b[0m         \u001b[0mtensors\u001b[0m\u001b[1;33m,\u001b[0m \u001b[0mgrad_tensors\u001b[0m\u001b[1;33m,\u001b[0m \u001b[0mretain_graph\u001b[0m\u001b[1;33m,\u001b[0m \u001b[0mcreate_graph\u001b[0m\u001b[1;33m,\u001b[0m\u001b[1;33m\u001b[0m\u001b[1;33m\u001b[0m\u001b[0m\n\u001b[1;32m--> 100\u001b[1;33m         allow_unreachable=True)  # allow_unreachable flag\n\u001b[0m\u001b[0;32m    101\u001b[0m \u001b[1;33m\u001b[0m\u001b[0m\n\u001b[0;32m    102\u001b[0m \u001b[1;33m\u001b[0m\u001b[0m\n",
      "\u001b[1;31mKeyboardInterrupt\u001b[0m: "
     ]
    }
   ],
   "source": [
    "te_mod.train_model(2, val_kg)"
   ]
  }
 ],
 "metadata": {
  "kernelspec": {
   "display_name": "Python 3",
   "language": "python",
   "name": "python3"
  },
  "language_info": {
   "codemirror_mode": {
    "name": "ipython",
    "version": 3
   },
   "file_extension": ".py",
   "mimetype": "text/x-python",
   "name": "python",
   "nbconvert_exporter": "python",
   "pygments_lexer": "ipython3",
   "version": "3.7.7-final"
  }
 },
 "nbformat": 4,
 "nbformat_minor": 4
}