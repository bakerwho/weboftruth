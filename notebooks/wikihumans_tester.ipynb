{
 "cells": [
  {
   "cell_type": "code",
   "execution_count": 1,
   "metadata": {},
   "outputs": [],
   "source": [
    "from torch import cuda\n",
    "from torch.optim import Adam \n",
    "import torch\n",
    "\n",
    "import pandas as pd\n",
    "import torchkge\n",
    "from torchkge.models import TransEModel\n",
    "from torchkge.sampling import BernoulliNegativeSampler\n",
    "from torchkge.utils import MarginLoss, DataLoader\n",
    "# from torchkge.utils.datasets import load_fb15k237\n",
    "from torchkge.utils.datasets import load_wikidatasets\n",
    "\n",
    "from tqdm.autonotebook import tqdm\n",
    "\n",
    "savedobj_path = '../saved_obj/'"
   ]
  },
  {
   "cell_type": "code",
   "execution_count": 2,
   "metadata": {},
   "outputs": [],
   "source": [
    "humans_kge_train, humans_kge_val, humans_kge_test  = load_wikidatasets('humans', limit_=50, data_home='C:/Users/Mathew/torchkge_data/')"
   ]
  },
  {
   "cell_type": "code",
   "execution_count": 3,
   "metadata": {},
   "outputs": [],
   "source": [
    "# Define some hyper-parameters for training\n",
    "emb_dim = 650\n",
    "lr = 0.0004\n",
    "n_epochs = 10\n",
    "b_size = 32\n",
    "margin = 0.5"
   ]
  },
  {
   "cell_type": "code",
   "execution_count": 10,
   "metadata": {},
   "outputs": [
    {
     "data": {
      "text/plain": [
       "<All keys matched successfully>"
      ]
     },
     "execution_count": 10,
     "metadata": {},
     "output_type": "execute_result"
    }
   ],
   "source": [
    "saved_50_model = model = TransEModel(emb_dim, humans_kge_train.n_ent, humans_kge_train.n_rel, dissimilarity_type='L2')\n",
    "saved_50_model.load_state_dict(torch.load(savedobj_path+'humans_transe_sdict.pt'))"
   ]
  },
  {
   "cell_type": "code",
   "execution_count": 4,
   "metadata": {},
   "outputs": [],
   "source": [
    "# Define the model and criterion\n",
    "model = TransEModel(emb_dim, humans_kge_train.n_ent, humans_kge_train.n_rel, dissimilarity_type='L2')\n",
    "criterion = MarginLoss(margin)"
   ]
  },
  {
   "cell_type": "code",
   "execution_count": 5,
   "metadata": {},
   "outputs": [],
   "source": [
    "# Move everything to CUDA if available\n",
    "if cuda.is_available():\n",
    "    cuda.empty_cache()\n",
    "    model.cuda()\n",
    "    criterion.cuda()"
   ]
  },
  {
   "cell_type": "code",
   "execution_count": 50,
   "metadata": {},
   "outputs": [
    {
     "name": "stderr",
     "output_type": "stream",
     "text": [
      "Epoch 10 | mean loss: 0.33868: 100%|██████████| 10/10 [23:59<00:00, 143.96s/epoch]\n"
     ]
    }
   ],
   "source": [
    "# Define the torch optimizer to be used\n",
    "optimizer = Adam(model.parameters(), lr=lr, weight_decay=1e-5)\n",
    "\n",
    "sampler = BernoulliNegativeSampler(humans_kge_train)\n",
    "dataloader = DataLoader(humans_kge_train, batch_size=b_size, use_cuda='all')\n",
    "\n",
    "iterator = tqdm(range(n_epochs), unit='epoch')\n",
    "for epoch in iterator:\n",
    "    running_loss = 0.0\n",
    "    for i, batch in enumerate(dataloader):\n",
    "        h, t, r = batch[0], batch[1], batch[2]\n",
    "        n_h, n_t = sampler.corrupt_batch(h, t, r)\n",
    "\n",
    "        optimizer.zero_grad()\n",
    "\n",
    "        # forward + backward + optimize\n",
    "        pos, neg = model(h, t, n_h, n_t, r)\n",
    "        loss = criterion(pos, neg)\n",
    "        loss.backward()\n",
    "        optimizer.step()\n",
    "\n",
    "        running_loss += loss.item()\n",
    "    iterator.set_description(\n",
    "        'Epoch {} | mean loss: {:.5f}'.format(epoch + 1,\n",
    "                                              running_loss / len(dataloader)))\n",
    "\n",
    "model.normalize_parameters()"
   ]
  },
  {
   "cell_type": "code",
   "execution_count": 63,
   "metadata": {},
   "outputs": [],
   "source": [
    "torch.save(model.state_dict(), savedobj_path+'humans_transe_sdict.pt')"
   ]
  },
  {
   "cell_type": "code",
   "execution_count": 11,
   "metadata": {},
   "outputs": [
    {
     "name": "stderr",
     "output_type": "stream",
     "text": [
      "Link prediction evaluation: 100%|██████████| 238/238 [11:41<00:00,  2.95s/batch]Hit@10 : 0.241 \t\t Filt. Hit@10 : 0.575\n",
      "Mean Rank : 253 \t Filt. Mean Rank : 233\n",
      "MRR : 0.098 \t\t Filt. MRR : 0.264\n",
      "\n"
     ]
    }
   ],
   "source": [
    "from torchkge.evaluation import LinkPredictionEvaluator\n",
    "\n",
    "# Link prediction evaluation on validation set.\n",
    "evaluator = LinkPredictionEvaluator(saved_50_model, humans_kge_val)\n",
    "evaluator.evaluate(b_size=32, k_max=10)\n",
    "evaluator.print_results()\n",
    "\n"
   ]
  },
  {
   "cell_type": "code",
   "execution_count": 17,
   "metadata": {},
   "outputs": [
    {
     "name": "stderr",
     "output_type": "stream",
     "text": [
      "0%|          | 0/2 [00:00<?, ?epoch/s]torch.Size([22])\n",
      "torch.Size([10])\n",
      "torch.Size([32])\n",
      "torch.Size([22])\n",
      "torch.Size([10])\n",
      "torch.Size([32])\n",
      "torch.Size([22])\n",
      "torch.Size([10])\n",
      "torch.Size([32])\n",
      "torch.Size([22])\n",
      "torch.Size([10])\n",
      "torch.Size([32])\n",
      "torch.Size([22])\n",
      "torch.Size([10])\n",
      "torch.Size([32])\n",
      "torch.Size([22])\n",
      "torch.Size([10])\n",
      "torch.Size([32])\n",
      "torch.Size([22])\n",
      "torch.Size([10])\n",
      "torch.Size([32])\n",
      "torch.Size([22])\n",
      "torch.Size([10])\n",
      "torch.Size([32])\n",
      "torch.Size([22])\n",
      "torch.Size([10])\n",
      "torch.Size([32])\n",
      "torch.Size([22])\n",
      "torch.Size([10])\n",
      "torch.Size([32])\n",
      "torch.Size([22])\n",
      "torch.Size([10])\n",
      "torch.Size([32])\n",
      "torch.Size([22])\n",
      "torch.Size([10])\n",
      "torch.Size([32])\n",
      "torch.Size([22])\n",
      "torch.Size([10])\n",
      "torch.Size([32])\n",
      "torch.Size([22])\n",
      "torch.Size([10])\n",
      "torch.Size([32])\n",
      "torch.Size([22])\n",
      "torch.Size([10])\n",
      "torch.Size([32])\n",
      "torch.Size([22])\n",
      "torch.Size([10])\n",
      "torch.Size([32])\n",
      "torch.Size([22])\n",
      "torch.Size([10])\n",
      "torch.Size([32])\n",
      "torch.Size([22])\n",
      "torch.Size([10])\n",
      "torch.Size([32])\n",
      "torch.Size([22])\n",
      "torch.Size([10])\n",
      "torch.Size([32])\n",
      "torch.Size([22])\n",
      "torch.Size([10])\n",
      "torch.Size([32])\n",
      "torch.Size([22])\n",
      "torch.Size([10])\n",
      "torch.Size([32])\n",
      "torch.Size([22])\n",
      "torch.Size([10])\n",
      "torch.Size([32])\n",
      "torch.Size([22])\n",
      "torch.Size([10])\n",
      "torch.Size([32])\n",
      "torch.Size([22])\n",
      "torch.Size([10])\n",
      "torch.Size([32])\n",
      "torch.Size([22])\n",
      "torch.Size([10])\n",
      "torch.Size([32])\n",
      "torch.Size([22])\n",
      "torch.Size([10])\n",
      "torch.Size([32])\n",
      "torch.Size([22])\n",
      "torch.Size([10])\n",
      "torch.Size([32])\n",
      "torch.Size([22])\n",
      "torch.Size([10])\n",
      "torch.Size([32])\n",
      "torch.Size([22])\n",
      "torch.Size([10])\n",
      "torch.Size([32])\n",
      "torch.Size([22])\n",
      "torch.Size([10])\n",
      "torch.Size([32])\n",
      "torch.Size([22])\n",
      "torch.Size([10])\n",
      "torch.Size([32])\n",
      "torch.Size([22])\n",
      "torch.Size([10])\n",
      "torch.Size([32])\n",
      "torch.Size([22])\n",
      "torch.Size([10])\n",
      "torch.Size([32])\n",
      "torch.Size([22])\n",
      "torch.Size([10])\n",
      "torch.Size([32])\n",
      "torch.Size([22])\n",
      "torch.Size([10])\n",
      "torch.Size([32])\n",
      "torch.Size([22])\n",
      "torch.Size([10])\n",
      "torch.Size([32])\n",
      "torch.Size([22])\n",
      "torch.Size([10])\n",
      "torch.Size([32])\n",
      "torch.Size([22])\n",
      "torch.Size([10])\n",
      "torch.Size([32])\n",
      "torch.Size([22])\n",
      "torch.Size([10])\n",
      "torch.Size([32])\n",
      "torch.Size([22])\n",
      "torch.Size([10])\n",
      "torch.Size([32])\n",
      "torch.Size([22])\n",
      "torch.Size([10])\n",
      "torch.Size([32])\n",
      "torch.Size([22])\n",
      "torch.Size([10])\n",
      "torch.Size([32])\n",
      "torch.Size([22])\n",
      "torch.Size([10])\n",
      "torch.Size([32])\n",
      "torch.Size([22])\n",
      "torch.Size([10])\n",
      "torch.Size([32])\n",
      "torch.Size([22])\n",
      "torch.Size([10])\n",
      "torch.Size([32])\n",
      "  0%|          | 0/2 [00:02<?, ?epoch/s]\n"
     ]
    },
    {
     "ename": "KeyboardInterrupt",
     "evalue": "",
     "output_type": "error",
     "traceback": [
      "\u001b[1;31m---------------------------------------------------------------------------\u001b[0m",
      "\u001b[1;31mKeyboardInterrupt\u001b[0m                         Traceback (most recent call last)",
      "\u001b[1;32m<ipython-input-17-4a1c211b455d>\u001b[0m in \u001b[0;36m<module>\u001b[1;34m\u001b[0m\n\u001b[0;32m     32\u001b[0m         \u001b[0moptimizer\u001b[0m\u001b[1;33m.\u001b[0m\u001b[0mstep\u001b[0m\u001b[1;33m(\u001b[0m\u001b[1;33m)\u001b[0m\u001b[1;33m\u001b[0m\u001b[1;33m\u001b[0m\u001b[0m\n\u001b[0;32m     33\u001b[0m \u001b[1;33m\u001b[0m\u001b[0m\n\u001b[1;32m---> 34\u001b[1;33m         \u001b[0mrunning_loss\u001b[0m \u001b[1;33m+=\u001b[0m \u001b[0mloss\u001b[0m\u001b[1;33m.\u001b[0m\u001b[0mitem\u001b[0m\u001b[1;33m(\u001b[0m\u001b[1;33m)\u001b[0m\u001b[1;33m\u001b[0m\u001b[1;33m\u001b[0m\u001b[0m\n\u001b[0m\u001b[0;32m     35\u001b[0m     iterator.set_description(\n\u001b[0;32m     36\u001b[0m         'Epoch {} | mean loss: {:.5f}'.format(epoch + 1,\n",
      "\u001b[1;31mKeyboardInterrupt\u001b[0m: "
     ]
    }
   ],
   "source": [
    "# Define the torch optimizer to be used\n",
    "corrupt_prop = 0.1\n",
    "corrupt_num = round(corrupt_prop*b_size)\n",
    "optimizer = Adam(model.parameters(), lr=lr, weight_decay=1e-5)\n",
    "\n",
    "sampler = BernoulliNegativeSampler(humans_kge_train)\n",
    "dataloader = DataLoader(humans_kge_train, batch_size=b_size, use_cuda='all')\n",
    "\n",
    "iterator = tqdm(range(2), unit='epoch')\n",
    "for epoch in iterator:\n",
    "    running_loss = 0.0\n",
    "    for i, batch in enumerate(dataloader):\n",
    "        \n",
    "        # print(f\"batch0_len: {len(batch[0])}\")\n",
    "        h0, t0, r0 = batch[0], batch[1], batch[2]\n",
    "        hf, tf = sampler.corrupt_batch(h0[-10:], t0[-10:], r0[-10:])\n",
    "        print(h0[:22].size())\n",
    "        print(hf.size())\n",
    "        h = torch.cat((h0[:22], hf))\n",
    "        t = torch.cat((t0[:22], tf))\n",
    "        print(h.size())\n",
    "        # print(h, t, r)\n",
    "        n_h, n_t = sampler.corrupt_batch(h, t, r0)\n",
    "        # h2 = torch.cat((h, n_h))\n",
    "        # print(h2)\n",
    "        \n",
    "\n",
    "        optimizer.zero_grad()\n",
    "\n",
    "        # forward + backward + optimize\n",
    "        pos, neg = model(h, t, n_h, n_t, r0)\n",
    "        loss = criterion(pos, neg)\n",
    "        loss.backward()\n",
    "        optimizer.step()\n",
    "\n",
    "        running_loss += loss.item()\n",
    "    iterator.set_description(\n",
    "        'Epoch {} | mean loss: {:.5f}'.format(epoch + 1,\n",
    "                                              running_loss / len(dataloader)))\n",
    "\n",
    "model.normalize_parameters()"
   ]
  },
  {
   "cell_type": "code",
   "execution_count": 18,
   "metadata": {},
   "outputs": [
    {
     "data": {
      "text/plain": [
       "3"
      ]
     },
     "execution_count": 18,
     "metadata": {},
     "output_type": "execute_result"
    }
   ],
   "source": [
    "round(0.1*b_size)"
   ]
  },
  {
   "cell_type": "code",
   "execution_count": 26,
   "metadata": {},
   "outputs": [
    {
     "data": {
      "text/plain": [
       "(2, 2562, 18)"
      ]
     },
     "execution_count": 26,
     "metadata": {},
     "output_type": "execute_result"
    }
   ],
   "source": [
    "humans_kge_train[2]"
   ]
  },
  {
   "cell_type": "code",
   "execution_count": 7,
   "metadata": {},
   "outputs": [],
   "source": [
    "xx = torch.load(savedobj_path+'humans_transe_sdict.pt')"
   ]
  },
  {
   "cell_type": "code",
   "execution_count": 14,
   "metadata": {},
   "outputs": [
    {
     "data": {
      "text/plain": [
       "torch.Size([50, 650])"
      ]
     },
     "execution_count": 14,
     "metadata": {},
     "output_type": "execute_result"
    }
   ],
   "source": [
    "xx['rel_emb.weight'].size()"
   ]
  }
 ],
 "metadata": {
  "kernelspec": {
   "display_name": "Python 3",
   "language": "python",
   "name": "python3"
  },
  "language_info": {
   "codemirror_mode": {
    "name": "ipython",
    "version": 3
   },
   "file_extension": ".py",
   "mimetype": "text/x-python",
   "name": "python",
   "nbconvert_exporter": "python",
   "pygments_lexer": "ipython3",
   "version": "3.6.10"
  }
 },
 "nbformat": 4,
 "nbformat_minor": 4
}
